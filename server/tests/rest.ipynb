{
 "cells": [
  {
   "cell_type": "code",
   "execution_count": 1,
   "metadata": {},
   "outputs": [],
   "source": [
    "import requests\n",
    "api_url = 'http://127.0.0.1:5000'"
   ]
  },
  {
   "cell_type": "code",
   "execution_count": 2,
   "metadata": {},
   "outputs": [
    {
     "name": "stdout",
     "output_type": "stream",
     "text": [
      "<Response [200]> [{\"name\":\"Logit\",\"type\":\"parametric\"},{\"name\":\"Kaplan-Meier\",\"type\":\"nonparametric\"},{\"name\":\"Cox\",\"type\":\"semiparametric\"}]\n",
      "\n",
      "<Response [200]> {\"name\":\"Logit\",\"type\":\"parametric\"}\n",
      "\n",
      "<Response [200]> {\"Logit\": [\"221211_233855\", \"221213_230043\"], \"Kaplan-Meier\": [\"221213_230046\", \"221211_233855\"], \"Cox\": [\"221213_230047\", \"221211_233855\"]}\n",
      "\n",
      "<Response [200]> [\"221213_230047\",\"221211_233855\"]\n",
      "\n"
     ]
    }
   ],
   "source": [
    "r = requests.get(f'{api_url}/models/types')\n",
    "print(r, r.text)\n",
    "r = requests.get(f'{api_url}/models/types/Logit')\n",
    "print(r, r.text)\n",
    "r = requests.get(f'{api_url}/models/fitted')\n",
    "print(r, r.text)\n",
    "r = requests.get(f'{api_url}/models/fitted/Cox')\n",
    "print(r, r.text)"
   ]
  },
  {
   "cell_type": "code",
   "execution_count": 1,
   "metadata": {},
   "outputs": [],
   "source": [
    "# Run cells below from parent dir of \"tests\"\n",
    "os.chdir(os.path.dirname(os.getcwd()))"
   ]
  },
  {
   "cell_type": "code",
   "execution_count": 2,
   "metadata": {},
   "outputs": [
    {
     "data": {
      "text/html": [
       "<div>\n",
       "<style scoped>\n",
       "    .dataframe tbody tr th:only-of-type {\n",
       "        vertical-align: middle;\n",
       "    }\n",
       "\n",
       "    .dataframe tbody tr th {\n",
       "        vertical-align: top;\n",
       "    }\n",
       "\n",
       "    .dataframe thead th {\n",
       "        text-align: right;\n",
       "    }\n",
       "</style>\n",
       "<table border=\"1\" class=\"dataframe\">\n",
       "  <thead>\n",
       "    <tr style=\"text-align: right;\">\n",
       "      <th></th>\n",
       "      <th>index</th>\n",
       "      <th>nAgrmntId</th>\n",
       "      <th>dtAgrmntOpen</th>\n",
       "      <th>dtAgrmntClose</th>\n",
       "      <th>nMonth</th>\n",
       "      <th>ctgrCardLevel</th>\n",
       "      <th>ctgrSalesChannel</th>\n",
       "      <th>dmMassOffer</th>\n",
       "      <th>nIsPayroll</th>\n",
       "      <th>dtReport</th>\n",
       "      <th>dmIsExpired</th>\n",
       "    </tr>\n",
       "  </thead>\n",
       "  <tbody>\n",
       "    <tr>\n",
       "      <th>0</th>\n",
       "      <td>0</td>\n",
       "      <td>0</td>\n",
       "      <td>2021-03-31</td>\n",
       "      <td>NaT</td>\n",
       "      <td>1</td>\n",
       "      <td>5</td>\n",
       "      <td>3</td>\n",
       "      <td>0</td>\n",
       "      <td>1</td>\n",
       "      <td>2021-03-31</td>\n",
       "      <td>0</td>\n",
       "    </tr>\n",
       "    <tr>\n",
       "      <th>1</th>\n",
       "      <td>1</td>\n",
       "      <td>0</td>\n",
       "      <td>2021-03-31</td>\n",
       "      <td>NaT</td>\n",
       "      <td>2</td>\n",
       "      <td>5</td>\n",
       "      <td>3</td>\n",
       "      <td>0</td>\n",
       "      <td>1</td>\n",
       "      <td>2021-04-30</td>\n",
       "      <td>0</td>\n",
       "    </tr>\n",
       "    <tr>\n",
       "      <th>2</th>\n",
       "      <td>2</td>\n",
       "      <td>0</td>\n",
       "      <td>2021-03-31</td>\n",
       "      <td>NaT</td>\n",
       "      <td>3</td>\n",
       "      <td>5</td>\n",
       "      <td>3</td>\n",
       "      <td>0</td>\n",
       "      <td>1</td>\n",
       "      <td>2021-05-31</td>\n",
       "      <td>0</td>\n",
       "    </tr>\n",
       "    <tr>\n",
       "      <th>3</th>\n",
       "      <td>3</td>\n",
       "      <td>0</td>\n",
       "      <td>2021-03-31</td>\n",
       "      <td>NaT</td>\n",
       "      <td>4</td>\n",
       "      <td>5</td>\n",
       "      <td>3</td>\n",
       "      <td>0</td>\n",
       "      <td>1</td>\n",
       "      <td>2021-06-30</td>\n",
       "      <td>0</td>\n",
       "    </tr>\n",
       "    <tr>\n",
       "      <th>4</th>\n",
       "      <td>4</td>\n",
       "      <td>0</td>\n",
       "      <td>2021-03-31</td>\n",
       "      <td>NaT</td>\n",
       "      <td>5</td>\n",
       "      <td>5</td>\n",
       "      <td>3</td>\n",
       "      <td>0</td>\n",
       "      <td>1</td>\n",
       "      <td>2021-07-31</td>\n",
       "      <td>0</td>\n",
       "    </tr>\n",
       "  </tbody>\n",
       "</table>\n",
       "</div>"
      ],
      "text/plain": [
       "   index  nAgrmntId dtAgrmntOpen dtAgrmntClose  nMonth  ctgrCardLevel  \\\n",
       "0      0          0   2021-03-31           NaT       1              5   \n",
       "1      1          0   2021-03-31           NaT       2              5   \n",
       "2      2          0   2021-03-31           NaT       3              5   \n",
       "3      3          0   2021-03-31           NaT       4              5   \n",
       "4      4          0   2021-03-31           NaT       5              5   \n",
       "\n",
       "   ctgrSalesChannel  dmMassOffer  nIsPayroll   dtReport  dmIsExpired  \n",
       "0                 3            0           1 2021-03-31            0  \n",
       "1                 3            0           1 2021-04-30            0  \n",
       "2                 3            0           1 2021-05-31            0  \n",
       "3                 3            0           1 2021-06-30            0  \n",
       "4                 3            0           1 2021-07-31            0  "
      ]
     },
     "execution_count": 2,
     "metadata": {},
     "output_type": "execute_result"
    }
   ],
   "source": [
    "from models.survival import Model, MODEL_TYPES\n",
    "\n",
    "model = Model()\n",
    "model.data.head(5)"
   ]
  },
  {
   "cell_type": "code",
   "execution_count": 3,
   "metadata": {},
   "outputs": [
    {
     "data": {
      "text/plain": [
       "{'Logit': ['221211_233855', '221213_230043'],\n",
       " 'Kaplan-Meier': ['221213_230046', '221211_233855'],\n",
       " 'Cox': ['221213_230047', '221211_233855']}"
      ]
     },
     "execution_count": 3,
     "metadata": {},
     "output_type": "execute_result"
    }
   ],
   "source": [
    "model.fitted"
   ]
  },
  {
   "cell_type": "code",
   "execution_count": 4,
   "metadata": {},
   "outputs": [
    {
     "data": {
      "text/plain": [
       "'Load model from ./.tmp/storage/Kaplan-Meier/221211_233855'"
      ]
     },
     "execution_count": 4,
     "metadata": {},
     "output_type": "execute_result"
    }
   ],
   "source": [
    "model.restore(model_type='Kaplan-Meier', model_uid='221211_233855')"
   ]
  },
  {
   "cell_type": "code",
   "execution_count": 5,
   "metadata": {},
   "outputs": [
    {
     "data": {
      "text/plain": [
       "'Kaplan-Meier'"
      ]
     },
     "execution_count": 5,
     "metadata": {},
     "output_type": "execute_result"
    }
   ],
   "source": [
    "model.model_type"
   ]
  },
  {
   "cell_type": "code",
   "execution_count": 3,
   "metadata": {},
   "outputs": [
    {
     "name": "stdout",
     "output_type": "stream",
     "text": [
      "                           Logit Regression Results                           \n",
      "==============================================================================\n",
      "Dep. Variable:            dmIsExpired   No. Observations:                20731\n",
      "Model:                          Logit   Df Residuals:                    20726\n",
      "Method:                           MLE   Df Model:                            4\n",
      "Date:                Tue, 13 Dec 2022   Pseudo R-squ.:                0.007994\n",
      "Time:                        23:00:43   Log-Likelihood:                -1020.6\n",
      "converged:                       True   LL-Null:                       -1028.8\n",
      "Covariance Type:            nonrobust   LLR p-value:                  0.002472\n",
      "====================================================================================\n",
      "                       coef    std err          z      P>|z|      [0.025      0.975]\n",
      "------------------------------------------------------------------------------------\n",
      "ctgrCardLevel        0.3079      0.076      4.044      0.000       0.159       0.457\n",
      "ctgrSalesChannel    -0.0960      0.071     -1.360      0.174      -0.234       0.042\n",
      "dmMassOffer          0.0361      0.391      0.092      0.926      -0.730       0.802\n",
      "nIsPayroll           0.1762      0.153      1.149      0.251      -0.124       0.477\n",
      "intercept           -5.1893      0.209    -24.886      0.000      -5.598      -4.781\n",
      "====================================================================================\n"
     ]
    },
    {
     "name": "stderr",
     "output_type": "stream",
     "text": [
      "/Users/user/projects/MLOps/mlops_restapi/models/survival.py:62: SettingWithCopyWarning: \n",
      "A value is trying to be set on a copy of a slice from a DataFrame.\n",
      "Try using .loc[row_indexer,col_indexer] = value instead\n",
      "\n",
      "See the caveats in the documentation: https://pandas.pydata.org/pandas-docs/stable/user_guide/indexing.html#returning-a-view-versus-a-copy\n",
      "  X['intercept'] = np.ones(X.shape[0])\n"
     ]
    },
    {
     "data": {
      "text/plain": [
       "'Saved model to ./.tmp/Logit/221213_230043'"
      ]
     },
     "execution_count": 3,
     "metadata": {},
     "output_type": "execute_result"
    }
   ],
   "source": [
    "model.set_model_type('Logit')\n",
    "spec = ['ctgrCardLevel','ctgrSalesChannel','dmMassOffer','nIsPayroll']\n",
    "model.fit(spec, fit_intercept=True)\n",
    "print(model.summary())\n",
    "model.save()"
   ]
  },
  {
   "cell_type": "code",
   "execution_count": 4,
   "metadata": {},
   "outputs": [
    {
     "name": "stdout",
     "output_type": "stream",
     "text": [
      "          KM_estimate\n",
      "timeline             \n",
      "0.0          1.000000\n",
      "1.0          1.000000\n",
      "2.0          1.000000\n",
      "3.0          1.000000\n",
      "4.0          1.000000\n",
      "...               ...\n",
      "74.0         0.894666\n",
      "75.0         0.894666\n",
      "76.0         0.894666\n",
      "77.0         0.894666\n",
      "78.0         0.894666\n",
      "\n",
      "[79 rows x 1 columns]\n"
     ]
    },
    {
     "data": {
      "text/plain": [
       "'Saved model to ./.tmp/Kaplan-Meier/221213_230046'"
      ]
     },
     "execution_count": 4,
     "metadata": {},
     "output_type": "execute_result"
    }
   ],
   "source": [
    "model.set_model_type('Kaplan-Meier')\n",
    "model.fit()\n",
    "print(model.summary())\n",
    "model.save()"
   ]
  },
  {
   "cell_type": "code",
   "execution_count": 5,
   "metadata": {},
   "outputs": [
    {
     "data": {
      "text/html": [
       "<div>\n",
       "<style scoped>\n",
       "    .dataframe tbody tr th:only-of-type {\n",
       "        vertical-align: middle;\n",
       "    }\n",
       "\n",
       "    .dataframe tbody tr th {\n",
       "        vertical-align: top;\n",
       "    }\n",
       "\n",
       "    .dataframe thead th {\n",
       "        text-align: right;\n",
       "    }\n",
       "</style>\n",
       "<table border=\"1\" class=\"dataframe\">\n",
       "  <tbody>\n",
       "    <tr>\n",
       "      <th>model</th>\n",
       "      <td>lifelines.CoxModelFitter</td>\n",
       "    </tr>\n",
       "    <tr>\n",
       "      <th>event col</th>\n",
       "      <td>'dmIsExpired'</td>\n",
       "    </tr>\n",
       "    <tr>\n",
       "      <th>number of subjects</th>\n",
       "      <td>500</td>\n",
       "    </tr>\n",
       "    <tr>\n",
       "      <th>number of periods</th>\n",
       "      <td>20731</td>\n",
       "    </tr>\n",
       "    <tr>\n",
       "      <th>number of events</th>\n",
       "      <td>179</td>\n",
       "    </tr>\n",
       "    <tr>\n",
       "      <th>partial log-likelihood</th>\n",
       "      <td>-945.76</td>\n",
       "    </tr>\n",
       "    <tr>\n",
       "      <th>time fit was run</th>\n",
       "      <td>2022-12-13 20:00:47 UTC</td>\n",
       "    </tr>\n",
       "  </tbody>\n",
       "</table>\n",
       "</div><table border=\"1\" class=\"dataframe\">\n",
       "  <thead>\n",
       "    <tr style=\"text-align: right;\">\n",
       "      <th style=\"min-width: 12px;\"></th>\n",
       "      <th style=\"min-width: 12px;\">coef</th>\n",
       "      <th style=\"min-width: 12px;\">exp(coef)</th>\n",
       "      <th style=\"min-width: 12px;\">se(coef)</th>\n",
       "      <th style=\"min-width: 12px;\">coef lower 95%</th>\n",
       "      <th style=\"min-width: 12px;\">coef upper 95%</th>\n",
       "      <th style=\"min-width: 12px;\">exp(coef) lower 95%</th>\n",
       "      <th style=\"min-width: 12px;\">exp(coef) upper 95%</th>\n",
       "      <th style=\"min-width: 12px;\">cmp to</th>\n",
       "      <th style=\"min-width: 12px;\">z</th>\n",
       "      <th style=\"min-width: 12px;\">p</th>\n",
       "      <th style=\"min-width: 12px;\">-log2(p)</th>\n",
       "    </tr>\n",
       "  </thead>\n",
       "  <tbody>\n",
       "    <tr>\n",
       "      <th>ctgrCardLevel</th>\n",
       "      <td>0.60</td>\n",
       "      <td>1.81</td>\n",
       "      <td>0.09</td>\n",
       "      <td>0.43</td>\n",
       "      <td>0.76</td>\n",
       "      <td>1.53</td>\n",
       "      <td>2.14</td>\n",
       "      <td>0.00</td>\n",
       "      <td>6.99</td>\n",
       "      <td>&lt;0.005</td>\n",
       "      <td>38.41</td>\n",
       "    </tr>\n",
       "    <tr>\n",
       "      <th>ctgrSalesChannel</th>\n",
       "      <td>-0.11</td>\n",
       "      <td>0.90</td>\n",
       "      <td>0.07</td>\n",
       "      <td>-0.25</td>\n",
       "      <td>0.03</td>\n",
       "      <td>0.78</td>\n",
       "      <td>1.03</td>\n",
       "      <td>0.00</td>\n",
       "      <td>-1.50</td>\n",
       "      <td>0.13</td>\n",
       "      <td>2.90</td>\n",
       "    </tr>\n",
       "    <tr>\n",
       "      <th>dmMassOffer</th>\n",
       "      <td>0.87</td>\n",
       "      <td>2.38</td>\n",
       "      <td>0.40</td>\n",
       "      <td>0.08</td>\n",
       "      <td>1.65</td>\n",
       "      <td>1.08</td>\n",
       "      <td>5.22</td>\n",
       "      <td>0.00</td>\n",
       "      <td>2.16</td>\n",
       "      <td>0.03</td>\n",
       "      <td>5.02</td>\n",
       "    </tr>\n",
       "    <tr>\n",
       "      <th>nIsPayroll</th>\n",
       "      <td>0.25</td>\n",
       "      <td>1.28</td>\n",
       "      <td>0.15</td>\n",
       "      <td>-0.05</td>\n",
       "      <td>0.55</td>\n",
       "      <td>0.95</td>\n",
       "      <td>1.74</td>\n",
       "      <td>0.00</td>\n",
       "      <td>1.63</td>\n",
       "      <td>0.10</td>\n",
       "      <td>3.27</td>\n",
       "    </tr>\n",
       "  </tbody>\n",
       "</table><br><div>\n",
       "<style scoped>\n",
       "    .dataframe tbody tr th:only-of-type {\n",
       "        vertical-align: middle;\n",
       "    }\n",
       "\n",
       "    .dataframe tbody tr th {\n",
       "        vertical-align: top;\n",
       "    }\n",
       "\n",
       "    .dataframe thead th {\n",
       "        text-align: right;\n",
       "    }\n",
       "</style>\n",
       "<table border=\"1\" class=\"dataframe\">\n",
       "  <tbody>\n",
       "    <tr>\n",
       "      <th>Partial AIC</th>\n",
       "      <td>1899.51</td>\n",
       "    </tr>\n",
       "    <tr>\n",
       "      <th>log-likelihood ratio test</th>\n",
       "      <td>45.57 on 4 df</td>\n",
       "    </tr>\n",
       "    <tr>\n",
       "      <th>-log2(p) of ll-ratio test</th>\n",
       "      <td>28.30</td>\n",
       "    </tr>\n",
       "  </tbody>\n",
       "</table>\n",
       "</div>"
      ],
      "text/latex": [
       "\\begin{tabular}{lrrrrrrrrrrr}\n",
       " & coef & exp(coef) & se(coef) & coef lower 95% & coef upper 95% & exp(coef) lower 95% & exp(coef) upper 95% & cmp to & z & p & -log2(p) \\\\\n",
       "covariate &  &  &  &  &  &  &  &  &  &  &  \\\\\n",
       "ctgrCardLevel & 0.60 & 1.81 & 0.09 & 0.43 & 0.76 & 1.53 & 2.14 & 0.00 & 6.99 & 0.00 & 38.41 \\\\\n",
       "ctgrSalesChannel & -0.11 & 0.90 & 0.07 & -0.25 & 0.03 & 0.78 & 1.03 & 0.00 & -1.50 & 0.13 & 2.90 \\\\\n",
       "dmMassOffer & 0.87 & 2.38 & 0.40 & 0.08 & 1.65 & 1.08 & 5.22 & 0.00 & 2.16 & 0.03 & 5.02 \\\\\n",
       "nIsPayroll & 0.25 & 1.28 & 0.15 & -0.05 & 0.55 & 0.95 & 1.74 & 0.00 & 1.63 & 0.10 & 3.27 \\\\\n",
       "\\end{tabular}\n"
      ],
      "text/plain": [
       "<lifelines.CoxModelFitter: fitted with 20731 periods, 500 subjects, 179 events>\n",
       "         event col = 'dmIsExpired'\n",
       "number of subjects = 500\n",
       " number of periods = 20731\n",
       "  number of events = 179\n",
       "partial log-likelihood = -945.76\n",
       "  time fit was run = 2022-12-13 20:00:47 UTC\n",
       "\n",
       "---\n",
       "                   coef  exp(coef)   se(coef)   coef lower 95%   coef upper 95%  exp(coef) lower 95%  exp(coef) upper 95%\n",
       "covariate                                                                                                                \n",
       "ctgrCardLevel      0.60       1.81       0.09             0.43             0.76                 1.53                 2.14\n",
       "ctgrSalesChannel  -0.11       0.90       0.07            -0.25             0.03                 0.78                 1.03\n",
       "dmMassOffer        0.87       2.38       0.40             0.08             1.65                 1.08                 5.22\n",
       "nIsPayroll         0.25       1.28       0.15            -0.05             0.55                 0.95                 1.74\n",
       "\n",
       "                   cmp to     z      p   -log2(p)\n",
       "covariate                                        \n",
       "ctgrCardLevel        0.00  6.99 <0.005      38.41\n",
       "ctgrSalesChannel     0.00 -1.50   0.13       2.90\n",
       "dmMassOffer          0.00  2.16   0.03       5.02\n",
       "nIsPayroll           0.00  1.63   0.10       3.27\n",
       "---\n",
       "Partial AIC = 1899.51\n",
       "log-likelihood ratio test = 45.57 on 4 df\n",
       "-log2(p) of ll-ratio test = 28.30"
      ]
     },
     "metadata": {},
     "output_type": "display_data"
    },
    {
     "name": "stdout",
     "output_type": "stream",
     "text": [
      "None\n"
     ]
    },
    {
     "data": {
      "text/plain": [
       "'Saved model to ./.tmp/Cox/221213_230047'"
      ]
     },
     "execution_count": 5,
     "metadata": {},
     "output_type": "execute_result"
    }
   ],
   "source": [
    "model.set_model_type('Cox')\n",
    "spec = ['ctgrCardLevel','ctgrSalesChannel','dmMassOffer','nIsPayroll']\n",
    "model.fit(specification=spec, id_col='nAgrmntId', stop_col='nMonth')\n",
    "print(model.summary())\n",
    "model.save()"
   ]
  },
  {
   "cell_type": "code",
   "execution_count": null,
   "metadata": {},
   "outputs": [],
   "source": []
  }
 ],
 "metadata": {
  "kernelspec": {
   "display_name": "Python 3.9.6 64-bit",
   "language": "python",
   "name": "python3"
  },
  "language_info": {
   "codemirror_mode": {
    "name": "ipython",
    "version": 3
   },
   "file_extension": ".py",
   "mimetype": "text/x-python",
   "name": "python",
   "nbconvert_exporter": "python",
   "pygments_lexer": "ipython3",
   "version": "3.9.6"
  },
  "orig_nbformat": 4,
  "vscode": {
   "interpreter": {
    "hash": "31f2aee4e71d21fbe5cf8b01ff0e069b9275f58929596ceb00d14d90e3e16cd6"
   }
  }
 },
 "nbformat": 4,
 "nbformat_minor": 2
}
